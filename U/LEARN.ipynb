{
 "cells": [
  {
   "cell_type": "markdown",
   "metadata": {},
   "source": [
    "# Задание 1"
   ]
  },
  {
   "cell_type": "code",
   "execution_count": 1,
   "metadata": {},
   "outputs": [],
   "source": [
    "import matplotlib.pyplot as plt\n",
    "\n",
    "import numpy as np\n",
    "import pandas as pd\n",
    "import math\n",
    "\n",
    "from statsmodels.stats.proportion import proportion_confint, proportions_ztest\n",
    "\n",
    "import scipy"
   ]
  },
  {
   "cell_type": "code",
   "execution_count": 2,
   "metadata": {},
   "outputs": [],
   "source": [
    "grp = pd.read_csv('groups.csv', names=['student_id', 'grp'], header=0, sep=';')\n",
    "act = pd.read_csv('active_studs.csv')\n",
    "chk = pd.read_csv('checks.csv', sep=';')"
   ]
  },
  {
   "cell_type": "code",
   "execution_count": 3,
   "metadata": {},
   "outputs": [
    {
     "name": "stdout",
     "output_type": "stream",
     "text": [
      "False    74576\n",
      "dtype: int64 \n",
      "\n",
      "False    8341\n",
      "dtype: int64 \n",
      "\n",
      "False    541\n",
      "dtype: int64 \n",
      "\n",
      "<class 'pandas.core.frame.DataFrame'>\n",
      "RangeIndex: 74576 entries, 0 to 74575\n",
      "Data columns (total 2 columns):\n",
      " #   Column      Non-Null Count  Dtype \n",
      "---  ------      --------------  ----- \n",
      " 0   student_id  74576 non-null  int64 \n",
      " 1   grp         74576 non-null  object\n",
      "dtypes: int64(1), object(1)\n",
      "memory usage: 1.1+ MB\n",
      "None \n",
      "\n",
      "<class 'pandas.core.frame.DataFrame'>\n",
      "RangeIndex: 8341 entries, 0 to 8340\n",
      "Data columns (total 1 columns):\n",
      " #   Column      Non-Null Count  Dtype\n",
      "---  ------      --------------  -----\n",
      " 0   student_id  8341 non-null   int64\n",
      "dtypes: int64(1)\n",
      "memory usage: 65.3 KB\n",
      "None \n",
      "\n",
      "<class 'pandas.core.frame.DataFrame'>\n",
      "RangeIndex: 541 entries, 0 to 540\n",
      "Data columns (total 2 columns):\n",
      " #   Column      Non-Null Count  Dtype  \n",
      "---  ------      --------------  -----  \n",
      " 0   student_id  541 non-null    int64  \n",
      " 1   rev         541 non-null    float64\n",
      "dtypes: float64(1), int64(1)\n",
      "memory usage: 8.6 KB\n",
      "None \n",
      "\n"
     ]
    }
   ],
   "source": [
    "#Проверяем дубликаты, пропущенные значения\n",
    "print(grp.duplicated().value_counts(), '\\n')\n",
    "print(act.duplicated().value_counts(), '\\n')\n",
    "print(chk.duplicated().value_counts(), '\\n')\n",
    "print(grp.info(), '\\n')\n",
    "print(act.info(), '\\n')\n",
    "print(chk.info(), '\\n')"
   ]
  },
  {
   "cell_type": "markdown",
   "metadata": {},
   "source": [
    "План на задание: \n",
    "\n",
    "1) Сравнить конверсию в оплату и проверить ее стат значимость\n",
    "\n",
    "2) То же самое сделать со средним чеком"
   ]
  },
  {
   "cell_type": "code",
   "execution_count": 4,
   "metadata": {},
   "outputs": [],
   "source": [
    "act_grp = pd.merge(grp, act, how='right', on='student_id')\n",
    "act_chk = pd.merge(act_grp, chk, how='inner', on='student_id')\n",
    "act_chk2 = pd.merge(act_grp, chk, how='left', on='student_id')"
   ]
  },
  {
   "cell_type": "markdown",
   "metadata": {},
   "source": [
    "Стоит заметить, что при внутреннем соединении таблиц c пользователями, которые заходили на платформу во время эксперимента, и оплатами в дни проведения эксперимента не все оплаты \"нашли\" активных пользователей (возможно у них оплата прошла автоматическим реккурентным платежом, но также возможны другие причины). \n",
    "\n",
    "Не очень понятно, как это интерпретировать, но одно можно сказать точно - эти юзеры точно не видели новую/старую форму оплаты. Поэтому позволю себе допущение - в будущем их не учитывать."
   ]
  },
  {
   "cell_type": "code",
   "execution_count": 5,
   "metadata": {},
   "outputs": [],
   "source": [
    "# Готовим и преобразуем данные для последующего анализа\n",
    "# участники эксперимента и конверсии\n",
    "act_chk2.rev = act_chk2.rev.astype('float64')\n",
    "grp_a = act_chk2[act_chk2['grp'] == 'A'].rev.apply(lambda x: 1 if x > 0 else 0)\n",
    "grp_b = act_chk2[act_chk2['grp'] == 'B'].rev.apply(lambda x: 1 if x > 0 else 0)\n",
    "\n",
    "# чеки\n",
    "rev_a = act_chk[act_chk['grp'] == 'A'].rev\n",
    "rev_b = act_chk[act_chk['grp'] == 'B'].rev"
   ]
  },
  {
   "cell_type": "code",
   "execution_count": 6,
   "metadata": {},
   "outputs": [],
   "source": [
    "results = pd.DataFrame({\"Всего в эксперименте\" : [grp.groupby('grp').count().iloc[0,0], grp.groupby('grp').count().iloc[1,0]],\n",
    "                        \"Эксперимент разыгрался, чел.\" : [len(grp_a), len(grp_b)],\n",
    "                        \"Эксперимент разыгрался, %\" : [round(len(grp_a) / grp.groupby('grp').count().iloc[0,0], 3), \n",
    "                                                       round(len(grp_b) / grp.groupby('grp').count().iloc[1,0], 3)],\n",
    "                        \"Оплатили, чел.\" : [sum(grp_a), sum(grp_b)],\n",
    "                        \"Оплатили, %\" : [round(sum(grp_a) / len(grp_a), 3), round(sum(grp_b) / len(grp_b), 3)],\n",
    "                        \"Средний чек\" : [round(np.mean(rev_a)), round(np.mean(rev_b))] }, index = ['A', 'B'])"
   ]
  },
  {
   "cell_type": "code",
   "execution_count": 7,
   "metadata": {},
   "outputs": [
    {
     "data": {
      "text/html": [
       "<div>\n",
       "<style scoped>\n",
       "    .dataframe tbody tr th:only-of-type {\n",
       "        vertical-align: middle;\n",
       "    }\n",
       "\n",
       "    .dataframe tbody tr th {\n",
       "        vertical-align: top;\n",
       "    }\n",
       "\n",
       "    .dataframe thead th {\n",
       "        text-align: right;\n",
       "    }\n",
       "</style>\n",
       "<table border=\"1\" class=\"dataframe\">\n",
       "  <thead>\n",
       "    <tr style=\"text-align: right;\">\n",
       "      <th></th>\n",
       "      <th>Всего в эксперименте</th>\n",
       "      <th>Эксперимент разыгрался, чел.</th>\n",
       "      <th>Эксперимент разыгрался, %</th>\n",
       "      <th>Оплатили, чел.</th>\n",
       "      <th>Оплатили, %</th>\n",
       "      <th>Средний чек</th>\n",
       "    </tr>\n",
       "  </thead>\n",
       "  <tbody>\n",
       "    <tr>\n",
       "      <th>A</th>\n",
       "      <td>14693</td>\n",
       "      <td>1538</td>\n",
       "      <td>0.105</td>\n",
       "      <td>78</td>\n",
       "      <td>0.051</td>\n",
       "      <td>934.0</td>\n",
       "    </tr>\n",
       "    <tr>\n",
       "      <th>B</th>\n",
       "      <td>59883</td>\n",
       "      <td>6803</td>\n",
       "      <td>0.114</td>\n",
       "      <td>314</td>\n",
       "      <td>0.046</td>\n",
       "      <td>1258.0</td>\n",
       "    </tr>\n",
       "  </tbody>\n",
       "</table>\n",
       "</div>"
      ],
      "text/plain": [
       "   Всего в эксперименте  Эксперимент разыгрался, чел.  \\\n",
       "A                 14693                          1538   \n",
       "B                 59883                          6803   \n",
       "\n",
       "   Эксперимент разыгрался, %  Оплатили, чел.  Оплатили, %  Средний чек  \n",
       "A                      0.105              78        0.051        934.0  \n",
       "B                      0.114             314        0.046       1258.0  "
      ]
     },
     "execution_count": 7,
     "metadata": {},
     "output_type": "execute_result"
    }
   ],
   "source": [
    "results"
   ]
  },
  {
   "cell_type": "code",
   "execution_count": 8,
   "metadata": {},
   "outputs": [],
   "source": [
    "# В интернетах нашел функцию, которая рассчитывает минимальную выборку на каждую группу для АВ-тестирования\n",
    "def calc_sample_size(alpha, power, p, pct_mde):\n",
    "    # Based on https://www.evanmiller.org/ab-testing/sample-size.html\n",
    "    delta = p * pct_mde\n",
    "    t_alpha2 = scipy.stats.norm.ppf(1.0-alpha/2)\n",
    "    t_beta = scipy.stats.norm.ppf(power)\n",
    "\n",
    "    sd1 = np.sqrt(2 * p * (1.0 - p))\n",
    "    sd2 = np.sqrt(p * (1.0 - p) + (p + delta) * (1.0 - p - delta))\n",
    "\n",
    "    return (t_alpha2 * sd1 + t_beta * sd2) * (t_alpha2 * sd1 + t_beta * sd2) / (delta * delta)"
   ]
  },
  {
   "cell_type": "code",
   "execution_count": 9,
   "metadata": {},
   "outputs": [
    {
     "data": {
      "text/plain": [
       "7663.0"
      ]
     },
     "execution_count": 9,
     "metadata": {},
     "output_type": "execute_result"
    }
   ],
   "source": [
    "round(calc_sample_size(0.05, 0.8, 0.05, 0.2))"
   ]
  },
  {
   "cell_type": "markdown",
   "metadata": {},
   "source": [
    "Что мы видим: для базовой конверсии в 5% и минимально ощутимом/обнаруживаемым эффектом в 20% при alpha=5%, power=80% (ошибки 1 и 2 рода) получаем 7663 наблюдения на каждую выборку.\n",
    "\n",
    "В нашем АВ-тесте эксперимент разыгрался для 1538 и 6803 пользователей под А и В группы соответственно - рано делать выводы, необходимо ждать до тех пор, пока каждая выборка не разыграется для 7663 юзеров. На этом можно было бы заканчивать задание, но думаю, что надо показать на имеющихся данных дальнейший анализ. "
   ]
  },
  {
   "cell_type": "code",
   "execution_count": 10,
   "metadata": {},
   "outputs": [
    {
     "data": {
      "text/plain": [
       "2       0\n",
       "5       0\n",
       "6       0\n",
       "8       0\n",
       "14      0\n",
       "       ..\n",
       "8316    0\n",
       "8326    1\n",
       "8332    0\n",
       "8337    0\n",
       "8339    0\n",
       "Name: rev, Length: 1538, dtype: int64"
      ]
     },
     "execution_count": 10,
     "metadata": {},
     "output_type": "execute_result"
    }
   ],
   "source": [
    "# Начнем по порядку - сначала проанализируем конверсию в оплату - видим распределение Бернулли,\n",
    "# будем использовать соответствующие методы из стат пакетов\n",
    "grp_a"
   ]
  },
  {
   "cell_type": "code",
   "execution_count": 11,
   "metadata": {},
   "outputs": [
    {
     "name": "stdout",
     "output_type": "stream",
     "text": [
      "(0.040535233739219856, 0.06297593758724482)\n",
      "(0.04135818392239928, 0.05142797226897443)\n"
     ]
    }
   ],
   "source": [
    "# построим доверительные интервалы для полученных конверсий, видим, что один из них полностью входит в диапазон \n",
    "# другого интервала, уже здесь можно сказать о том, что значимых изменений нет, но пойдем дальше\n",
    "print(proportion_confint(sum(grp_a), grp_a.shape[0], method='binom_test'))\n",
    "print(proportion_confint(sum(grp_b), grp_b.shape[0], method='binom_test'))"
   ]
  },
  {
   "cell_type": "markdown",
   "metadata": {},
   "source": [
    "Для проверки соответсвующей гипотезы формально обозначим, что мы проверяем:\n",
    "\n",
    "$H_0\\colon$ Конверсия в оплату между новой и старой версией значимо не отличается\n",
    "\n",
    "$H_1\\colon$ Отличается (двусторонняя альтернатива, поскольку мы не можем заранее знать, какой будет перфоманс)"
   ]
  },
  {
   "cell_type": "code",
   "execution_count": 12,
   "metadata": {},
   "outputs": [
    {
     "data": {
      "text/plain": [
       "0.445470284371589"
      ]
     },
     "execution_count": 12,
     "metadata": {},
     "output_type": "execute_result"
    }
   ],
   "source": [
    "# для проверки нашей гипотезы будем использовать z-критерий для двух долей \n",
    "proportions_ztest([sum(grp_a), sum(grp_b)], [grp_a.shape[0], grp_b.shape[0]])[1]"
   ]
  },
  {
   "cell_type": "markdown",
   "metadata": {},
   "source": [
    "#### P-value равен 0.45 - нулевая гипотеза уверенно не отвергается\n",
    "\n",
    "Новый вариант не отличается от старого на уровне значимости 0,05 (да и вообще на любом адекватном)"
   ]
  },
  {
   "cell_type": "code",
   "execution_count": 13,
   "metadata": {},
   "outputs": [
    {
     "data": {
      "image/png": "[encoded data removed]",
      "text/plain": [
       "<Figure size 1008x576 with 2 Axes>"
      ]
     },
     "metadata": {
      "needs_background": "light"
     },
     "output_type": "display_data"
    }
   ],
   "source": [
    "# Для полноты анализа проверим гипотезу о равенстве средних чеков между 2 вариантами, \n",
    "# для этого посмотрим на распределение чеков\n",
    "\n",
    "plt.figure(figsize=(14,8))\n",
    "plt.subplot(2, 2, 1)\n",
    "plt.hist(rev_a, color = 'r')\n",
    "plt.subplot(2, 2, 2)\n",
    "plt.hist(rev_b, color = 'b')\n",
    "plt.show()"
   ]
  },
  {
   "cell_type": "code",
   "execution_count": 14,
   "metadata": {},
   "outputs": [
    {
     "name": "stdout",
     "output_type": "stream",
     "text": [
      "1.4986822893803264e-10\n",
      "1.5437024585965894e-16\n"
     ]
    }
   ],
   "source": [
    "# Судя по графикам, распределение не очень похоже на нормальное, для этого проведем тест Шапиро-Уилка и определим\n",
    "# нормальность распределения - это нам необходимо для дальнейшего выбора критерия проверки ср чеков\n",
    "# Нулевая гипотеза: распределение нормальное, Альтернативная: средние чеки распределены не нормально \n",
    "\n",
    "print(scipy.stats.shapiro(rev_a)[1])\n",
    "print(scipy.stats.shapiro(rev_b)[1])\n",
    "\n",
    "# Получили очень маленькие значения p-value - нулевая гипотеза о нормальности распределения уверенно отвергается \n",
    "# по обеим выборкам "
   ]
  },
  {
   "cell_type": "markdown",
   "metadata": {},
   "source": [
    "Поскольку мы имеем дело с ненормальным распределением, для сравнения двух независимых выборок применим критерий Манна-Уитни \n",
    "\n",
    "$H_0\\colon$ Средние чеки одинаковы для новой и старой механики оплаты на сайте\n",
    "\n",
    "$H_1\\colon$ Не одинаковы"
   ]
  },
  {
   "cell_type": "code",
   "execution_count": 15,
   "metadata": {},
   "outputs": [
    {
     "data": {
      "text/plain": [
       "MannwhitneyuResult(statistic=9001.0, pvalue=0.0001255696915703461)"
      ]
     },
     "execution_count": 15,
     "metadata": {},
     "output_type": "execute_result"
    }
   ],
   "source": [
    "scipy.stats.mannwhitneyu(rev_a, rev_b)"
   ]
  },
  {
   "cell_type": "markdown",
   "metadata": {},
   "source": [
    "#### p-value равен 0.0001 - нулевая гипотеза уверенно отвергается \n",
    "\n",
    "В новой механике оплаты средний чек больше на уровне значимости 0.01 / 0.05\n",
    "\n",
    "Немного странно получилось, однако есть нюансы:\n",
    "\n",
    "1) В выборочных данных не должно быть совпадающих значений (все числа — разные) или таких совпадений должно быть очень мало (до 10), наша выборка этому явно не соответствует \n",
    "\n",
    "2) При объеме выборки больше 60 штук критерий Манна-Уитни статистика апроксимируется нормальным распределением - в данном случае нет смысла применять данный критерий \n",
    "\n",
    "Что делать? Есть 2 вариант дальнейшего развития событий: 1) открутить тест до минимально необходимого объема выборки 2) применить бутстрап \n",
    "\n"
   ]
  },
  {
   "cell_type": "markdown",
   "metadata": {},
   "source": [
    "Представим, что мы открутили наш АВ-тест и получили нормальное распределение (применили критерий Шапиро-Уилка, построили КуКу-plot), тогда мы сможем применить критерий Стьюдента, сформулируем гипотезы:\n",
    "\n",
    "$H_0\\colon$ средние значения оплат одинаковы для обеих групп\n",
    "\n",
    "$H_0\\colon$ не одинаковы."
   ]
  },
  {
   "cell_type": "code",
   "execution_count": 16,
   "metadata": {},
   "outputs": [
    {
     "data": {
      "text/plain": [
       "Ttest_indResult(statistic=-2.861689755269415, pvalue=0.0050697340128001145)"
      ]
     },
     "execution_count": 16,
     "metadata": {},
     "output_type": "execute_result"
    }
   ],
   "source": [
    "scipy.stats.ttest_ind(rev_a, rev_b, equal_var = False)\n",
    "\n",
    "# \"отвергаем нулевую гипотезу - средние чеки значимо отличаются\" "
   ]
  },
  {
   "cell_type": "markdown",
   "metadata": {},
   "source": [
    "# Задание 3"
   ]
  },
  {
   "cell_type": "code",
   "execution_count": 52,
   "metadata": {},
   "outputs": [],
   "source": [
    "df = pd.DataFrame({'Babylon': [60000, 80000, 100000, 200000, 200000]}, \n",
    "                  index=['1700 BC', '1200 BC', '1000 BC', '600 BC', '500 BC'])\n",
    "class BaseGraph():\n",
    "    src = df\n",
    "    name = 'Meganame'\n",
    "    xlabel = 'Year before Christ'\n",
    "    ylabel = 'Population'\n",
    "    label = 'Babylon'\n",
    "    \n",
    "    def plot(self):\n",
    "        plt.plot(self.src, label=self.label)\n",
    "        plt.title(self.name)\n",
    "        plt.xlabel(self.xlabel)\n",
    "        plt.ylabel(self.ylabel)\n",
    "        plt.legend(loc='best')\n",
    "        plt.show()\n",
    "\n",
    "class BarGraph(BaseGraph):\n",
    "    def plot(self):\n",
    "        plt.bar(self.src.index, self.src.Babylon.values, label=self.label)\n",
    "        plt.title(self.name)\n",
    "        plt.xlabel(self.xlabel)\n",
    "        plt.ylabel(self.ylabel)\n",
    "        plt.legend(loc='best')\n",
    "        plt.show()"
   ]
  },
  {
   "cell_type": "code",
   "execution_count": 53,
   "metadata": {},
   "outputs": [],
   "source": [
    "# Создадим новые объекты\n",
    "a = BaseGraph()\n",
    "b = BarGraph()"
   ]
  },
  {
   "cell_type": "code",
   "execution_count": 54,
   "metadata": {},
   "outputs": [
    {
     "data": {
      "image/png": "[encoded data removed]",
      "text/plain": [
       "<Figure size 432x288 with 1 Axes>"
      ]
     },
     "metadata": {
      "needs_background": "light"
     },
     "output_type": "display_data"
    },
    {
     "data": {
      "image/png": "[encoded data removed]",
      "text/plain": [
       "<Figure size 432x288 with 1 Axes>"
      ]
     },
     "metadata": {
      "needs_background": "light"
     },
     "output_type": "display_data"
    }
   ],
   "source": [
    "# Проверим правильность построения соответствующих графиков\n",
    "a.plot()\n",
    "b.plot()"
   ]
  },
  {
   "cell_type": "code",
   "execution_count": 61,
   "metadata": {},
   "outputs": [
    {
     "name": "stdout",
     "output_type": "stream",
     "text": [
      "{'name': 'Bar Chart name'}\n"
     ]
    },
    {
     "data": {
      "image/png": "[encoded data removed]",
      "text/plain": [
       "<Figure size 432x288 with 1 Axes>"
      ]
     },
     "metadata": {
      "needs_background": "light"
     },
     "output_type": "display_data"
    },
    {
     "data": {
      "image/png": "[encoded data removed]",
      "text/plain": [
       "<Figure size 432x288 with 1 Axes>"
      ]
     },
     "metadata": {
      "needs_background": "light"
     },
     "output_type": "display_data"
    }
   ],
   "source": [
    "# поменяем один параметр объекта b и увидим, что он записался к нашему объекту b, что также видно на графике\n",
    "b.name = 'Bar Chart name'\n",
    "print(b.__dict__)\n",
    "b.plot()\n",
    "\n",
    "# Создадим еще один объект аналогичного класса и увидим, что его атрибуты не поменялись \n",
    "c = BarGraph()\n",
    "c.plot()"
   ]
  },
  {
   "cell_type": "code",
   "execution_count": 60,
   "metadata": {},
   "outputs": [
    {
     "data": {
      "image/png": "[encoded data removed]",
      "text/plain": [
       "<Figure size 432x288 with 1 Axes>"
      ]
     },
     "metadata": {
      "needs_background": "light"
     },
     "output_type": "display_data"
    }
   ],
   "source": [
    "# Название графика из метода первого класса не поменялось \n",
    "a.plot()"
   ]
  }
 ],
 "metadata": {
  "kernelspec": {
   "display_name": "Python 3",
   "language": "python",
   "name": "python3"
  },
  "language_info": {
   "codemirror_mode": {
    "name": "ipython",
    "version": 3
   },
   "file_extension": ".py",
   "mimetype": "text/x-python",
   "name": "python",
   "nbconvert_exporter": "python",
   "pygments_lexer": "ipython3",
   "version": "3.7.7"
  }
 },
 "nbformat": 4,
 "nbformat_minor": 4
}
