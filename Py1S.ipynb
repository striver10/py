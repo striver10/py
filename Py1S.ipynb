{
 "cells": [
  {
   "cell_type": "code",
   "execution_count": null,
   "metadata": {},
   "outputs": [],
   "source": [
    "a = int(input())\n",
    "if a % 4 == 0 and a % 100 != 0 or a % 400 == 0: \n",
    "    print('Викокосный')\n",
    "else:\n",
    "    print('Обычный')"
   ]
  },
  {
   "cell_type": "code",
   "execution_count": null,
   "metadata": {},
   "outputs": [],
   "source": [
    "x = input()\n",
    "if x == 'треугольник': \n",
    "    a = int(input())\n",
    "    b = int(input())\n",
    "    c = int(input())\n",
    "    p = (a + b + c)/2\n",
    "    s = (p * (p-a) * (p-b) * (p-c)) ** 0.5\n",
    "    print(s)\n",
    "elif x == 'прямоугольник': \n",
    "    a = int(input())\n",
    "    b = int(input())\n",
    "    print(float(a * b))\n",
    "elif x == 'круг': \n",
    "    r = int(input())\n",
    "    pi = 3.14\n",
    "    print(float(pi * (r ** 2)))\n"
   ]
  },
  {
   "cell_type": "code",
   "execution_count": null,
   "metadata": {
    "scrolled": true
   },
   "outputs": [],
   "source": [
    "a = int(input())\n",
    "b = int(input())\n",
    "c = int(input())\n",
    "if c >= a and c >= b and b <= a:\n",
    "    print (c, b, a, sep='\\n')\n",
    "elif c >= a and c >= b and a <= b:\n",
    "    print (c, a, b, sep='\\n')\n",
    "elif b >= a and b >= c and c <= a:\n",
    "    print(b, c, a, sep='\\n')\n",
    "elif b >= a and b >= c and a <= c:\n",
    "    print(b, a, c, sep='\\n')    \n",
    "elif a >= c and a >= b and c <= b:\n",
    "    print(a, c, b, sep='\\n')\n",
    "elif a >= c and a >= b and b <= c:\n",
    "    print(a, b, c, sep='\\n')    "
   ]
  },
  {
   "cell_type": "code",
   "execution_count": null,
   "metadata": {
    "scrolled": true
   },
   "outputs": [],
   "source": [
    "a = 123456\n",
    "six = a % 10\n",
    "five = (a % 100) // 10\n",
    "four = (a % 1000) // 100\n",
    "print(six, five, four)"
   ]
  },
  {
   "cell_type": "code",
   "execution_count": null,
   "metadata": {},
   "outputs": [],
   "source": [
    "a = int(input())\n",
    "b = a % 10\n",
    "c = a % 100\n",
    "if b == 0 or b >= 5 and b <= 9 or c >= 11 and c <= 14: \n",
    "    print(str(a) + ' программистов')\n",
    "elif b == 1:\n",
    "    print(str(a) + ' программист')\n",
    "elif b >= 2 and b <= 4:\n",
    "    print(str(a) + ' программиста')"
   ]
  },
  {
   "cell_type": "code",
   "execution_count": null,
   "metadata": {
    "scrolled": false
   },
   "outputs": [],
   "source": [
    "a = int(input())\n",
    "six = a % 10\n",
    "five = (a % 100) // 10\n",
    "four = (a % 1000) // 100\n",
    "three = (a % 10000) // 1000\n",
    "two = (a % 100000) // 10000\n",
    "one = (a % 1000000) // 100000\n",
    "if one + two + three == four + five + six: \n",
    "    print('Счастливый')\n",
    "else:\n",
    "    print('Обычный')"
   ]
  },
  {
   "cell_type": "code",
   "execution_count": null,
   "metadata": {
    "scrolled": true
   },
   "outputs": [],
   "source": [
    "i = 1\n",
    "while i > 0:\n",
    "    a = int(input())\n",
    "    if a > 100:\n",
    "        break\n",
    "    if a < 10:\n",
    "        continue \n",
    "    print(a)"
   ]
  },
  {
   "cell_type": "code",
   "execution_count": null,
   "metadata": {},
   "outputs": [],
   "source": [
    "a = 4\n",
    "b = 7\n",
    "c = 3\n",
    "d = 5\n",
    "for j in range(c, d+1):\n",
    "    print('\\t', j, end = '\\t')\n",
    "for i in range(a, b+1):\n",
    "    print('\\n', i, end='')\n",
    "    for z in range(c, d+1):\n",
    "        print('\\t', i * z, end = '\\t')"
   ]
  },
  {
   "cell_type": "code",
   "execution_count": null,
   "metadata": {},
   "outputs": [],
   "source": [
    "a = int(input())\n",
    "b = int(input())\n",
    "s = 0\n",
    "y = 0\n",
    "if a % 3 != 0:\n",
    "    a += 1\n",
    "    if a % 3 != 0:\n",
    "        a += 1\n",
    "for i in range(a, b + 1, 3):\n",
    "    s += i\n",
    "    y += 1\n",
    "print(s / y)"
   ]
  },
  {
   "cell_type": "code",
   "execution_count": null,
   "metadata": {},
   "outputs": [],
   "source": [
    "a, b = (int(i) for i in input().split())\n",
    "s = 0\n",
    "if a % 2 == 0:\n",
    "    a += 1\n",
    "for i in range(a, b + 1, 2):\n",
    "    s += i\n",
    "print(s)\n",
    "    "
   ]
  },
  {
   "cell_type": "code",
   "execution_count": null,
   "metadata": {},
   "outputs": [],
   "source": [
    "a = input()\n",
    "b = a.lower().count('c')\n",
    "c = a.lower().count('g')\n",
    "print((b + c) / len(a) * 100)"
   ]
  },
  {
   "cell_type": "code",
   "execution_count": null,
   "metadata": {},
   "outputs": [],
   "source": [
    "a = input()\n",
    "a = a.lower() + ' '\n",
    "x = ''\n",
    "for i in range(len(a) - 1):\n",
    "    while a[i] != a[i+1]:  \n",
    "        if x == '':\n",
    "            x = x + a[i] + str(i + 1)\n",
    "        elif x != '':\n",
    "            x = x + a[i] + str(i - cnt)\n",
    "        cnt = i\n",
    "        if a[i] != a[i+1]:\n",
    "            break\n",
    "print(x)"
   ]
  },
  {
   "cell_type": "code",
   "execution_count": null,
   "metadata": {},
   "outputs": [],
   "source": [
    "a = [int(i) for i in input().split()]\n",
    "b = 0\n",
    "for j in range(len(a)):\n",
    "    b += a[j]\n",
    "print(b)"
   ]
  },
  {
   "cell_type": "code",
   "execution_count": null,
   "metadata": {},
   "outputs": [],
   "source": [
    "# put your python code here\n",
    "a = [int(i) for i in input().split()]\n",
    "b = [j for j in range(len(a))]\n",
    "if len(a) > 1:\n",
    "    for j in range(len(a)):\n",
    "        if j+1 < len(a):\n",
    "            b[j] = a[j-1] + a[j+1]\n",
    "        else:\n",
    "            b[j] = a[j-1] + a[0]\n",
    "else: \n",
    "    b = a\n",
    "print(*b)"
   ]
  },
  {
   "cell_type": "code",
   "execution_count": null,
   "metadata": {},
   "outputs": [],
   "source": [
    "# put your python code here\n",
    "a = [int(i) for i in input().split()]\n",
    "b = []\n",
    "a.sort()\n",
    "if len(a) == 1:\n",
    "    b = []\n",
    "elif a[-1] == a[-2]:\n",
    "    b.append(a[-1])\n",
    "for i in range(len(a) - 1):\n",
    "    if a[i] != a[i + 1]:\n",
    "        for j in range(i, i + 2):\n",
    "            if a[j] == a[j-1]:\n",
    "                b.append(a[i])\n",
    "                break\n",
    "print(*b)"
   ]
  },
  {
   "cell_type": "code",
   "execution_count": null,
   "metadata": {},
   "outputs": [],
   "source": [
    "a = int(input())\n",
    "y = []\n",
    "x = []\n",
    "for i in range (1, a + 1): \n",
    "    for j in range(i, i + 1):\n",
    "        if len(y) <= a:\n",
    "            y += [str(i)] * j\n",
    "            break\n",
    "for i in range (a): \n",
    "    x.append(y[i])\n",
    "print(*x)"
   ]
  },
  {
   "cell_type": "code",
   "execution_count": null,
   "metadata": {},
   "outputs": [],
   "source": [
    "a = [int(i) for i in input().split()]\n",
    "b = int(input())\n",
    "c = []\n",
    "for i in range(len(a)):\n",
    "    if a[i] == b:\n",
    "        c.append(a[i])\n",
    "if len(c) > 0:\n",
    "    print(*c)\n",
    "else:\n",
    "    print('Отсутствует')"
   ]
  },
  {
   "cell_type": "code",
   "execution_count": null,
   "metadata": {
    "scrolled": false
   },
   "outputs": [],
   "source": [
    "a = [[int(i) for i in input().split()]]\n",
    "b = input()\n",
    "while b != 'end' :\n",
    "    a.append([int(i) for i in b.split()])\n",
    "    b = input()\n",
    "a = [[0 for j in range(a[j])] for i in range(a[i])]  # заполнение поля нулями\n",
    "for i in range(a[i]):\n",
    "    for j in range(a[j]):\n",
    "        c[i][j] = a[i-1][j] + a[i+1][j] + a[i][j-1] + a[i][j+1]\n",
    "        print(c[i][j], end = ' ')\n",
    "    print()\n",
    "        \n",
    "# (i-1, j), (i+1, j), (i, j-1), (i, j+1)\n",
    "#         c[i][j].append(a[i-1][j] + a[i+1][j] + a[i][j-1] + a[i][j+1])"
   ]
  },
  {
   "cell_type": "code",
   "execution_count": null,
   "metadata": {},
   "outputs": [],
   "source": [
    "a = [[9, 5 , 3], [0, 7, -1], [-5, 2, 9]]\n",
    "#a = [[1, 2, 3], [1], [1]]\n",
    "m = 0\n",
    "n = 0\n",
    "for i in range(len(a)):\n",
    "    m +=1\n",
    "    for j in range(len(a[i])):\n",
    "        n = len(a[i])\n",
    "for i in range(m):\n",
    "    for j in range(n):\n",
    "        c = [[0 for j in range(n)] for i in range(m)]\n",
    "        if i == m - 1 and j == n - 1:\n",
    "            c[i][j] = a[i-1][j] + a[i-len(a)+1][j] + a[i][j-1] + a[i][j-len(a)+1]\n",
    "        elif j == n - 1:\n",
    "            c[i][j] = a[i-1][j] + a[i+1][j] + a[i][j-1] + a[i][j-len(a)+1]\n",
    "        elif i == m - 1:\n",
    "            c[i][j] = a[i-1][j] + a[i-len(a)+1][j] + a[i][j-1] + a[i][j+1]\n",
    "        else:\n",
    "            c[i][j] = a[i-1][j] + a[i+1][j] + a[i][j-1] + a[i][j+1]\n",
    "        print(c[i][j], end = ' ')\n",
    "    print()"
   ]
  },
  {
   "cell_type": "code",
   "execution_count": null,
   "metadata": {},
   "outputs": [],
   "source": [
    "a = [[int(i) for i in input().split()]]\n",
    "b = input()\n",
    "while b != 'end' :\n",
    "    a.append([int(i) for i in b.split()])\n",
    "    b = input()\n",
    "m = 0\n",
    "n = 0\n",
    "for i in range(len(a)):\n",
    "    m +=1\n",
    "    for j in range(len(a[i])):\n",
    "        n = len(a[i])\n",
    "for i in range(m):\n",
    "    for j in range(n):\n",
    "        c = [[0 for j in range(len(a))] for i in range(len(a))]\n",
    "        if i == len(a) - 1 and j == len(a) - 1:\n",
    "            c[i][j] = a[i-1][j] + a[i-len(a)+1][j] + a[i][j-1] + a[i][j-len(a)+1]\n",
    "        elif j == len(a) - 1:\n",
    "            c[i][j] = a[i-1][j] + a[i+1][j] + a[i][j-1] + a[i][j-len(a)+1]\n",
    "        elif i == len(a) - 1:\n",
    "            c[i][j] = a[i-1][j] + a[i-len(a)+1][j] + a[i][j-1] + a[i][j+1]\n",
    "        else:\n",
    "            c[i][j] = a[i-1][j] + a[i+1][j] + a[i][j-1] + a[i][j+1]\n",
    "        print(c[i][j], end = ' ')\n",
    "    print()\n"
   ]
  },
  {
   "cell_type": "code",
   "execution_count": null,
   "metadata": {},
   "outputs": [],
   "source": [
    "a = [[int(i) for i in input().split()]]\n",
    "b = input()\n",
    "while b != 'end' :\n",
    "    a.append([int(i) for i in b.split()])\n",
    "    b = input()\n",
    "m = 0\n",
    "n = 0\n",
    "for i in range(len(a)):\n",
    "    m +=1\n",
    "    for j in range(len(a[i])):\n",
    "        n = len(a[i])\n",
    "for i in range(m):\n",
    "    for j in range(n):\n",
    "        c = [[0 for j in range(n)] for i in range(m)]\n",
    "        if i == m - 1 and j == n - 1:\n",
    "            c[i][j] = a[i-1][j] + a[i - m + 1][j] + a[i][j-1] + a[i][j - n + 1]\n",
    "        elif j == n - 1:\n",
    "            c[i][j] = a[i-1][j] + a[i+1][j] + a[i][j-1] + a[i][j - n + 1]\n",
    "        elif i == m - 1:\n",
    "            c[i][j] = a[i-1][j] + a[i - m + 1][j] + a[i][j-1] + a[i][j+1]\n",
    "        else:\n",
    "            c[i][j] = a[i-1][j] + a[i+1][j] + a[i][j-1] + a[i][j+1]\n",
    "        print(c[i][j], end = ' ')\n",
    "    print()"
   ]
  },
  {
   "cell_type": "code",
   "execution_count": null,
   "metadata": {},
   "outputs": [],
   "source": [
    "def f(x):\n",
    "    if x <= -2:\n",
    "        m = 1 - pow(x + 2, 2)\n",
    "    elif x > -2 and x <= 2:\n",
    "        m = -x / 2\n",
    "    else:\n",
    "        m = pow(x - 2, 2) + 1\n",
    "    print(m)"
   ]
  },
  {
   "cell_type": "code",
   "execution_count": null,
   "metadata": {},
   "outputs": [],
   "source": [
    "f(4.5)"
   ]
  },
  {
   "cell_type": "code",
   "execution_count": null,
   "metadata": {},
   "outputs": [],
   "source": [
    "def modify_list(l):\n",
    "    for i in range(len(l) - 1 , -1, -1):\n",
    "        if l[i] % 2 == 1:\n",
    "            del l[i]\n",
    "        elif l[i] % 2 == 0:\n",
    "            l[i] = int(l[i] / 2)\n",
    "    return l"
   ]
  },
  {
   "cell_type": "code",
   "execution_count": null,
   "metadata": {},
   "outputs": [],
   "source": [
    "def update_dictionary(d, key, value):\n",
    "    if key in d.keys():\n",
    "        d[key] += [value]\n",
    "    elif key not in d.keys():\n",
    "        key = key * 2\n",
    "        if key in d.keys():\n",
    "            d[key] += [value]\n",
    "        else:\n",
    "            d.setdefault(key, []).append(value)"
   ]
  },
  {
   "cell_type": "code",
   "execution_count": null,
   "metadata": {},
   "outputs": [],
   "source": [
    "d ={}"
   ]
  },
  {
   "cell_type": "code",
   "execution_count": null,
   "metadata": {},
   "outputs": [],
   "source": [
    "print(update_dictionary(d, 1, -1))"
   ]
  },
  {
   "cell_type": "code",
   "execution_count": null,
   "metadata": {},
   "outputs": [],
   "source": [
    "print(d)"
   ]
  },
  {
   "cell_type": "code",
   "execution_count": null,
   "metadata": {
    "scrolled": true
   },
   "outputs": [],
   "source": [
    "a = input()\n",
    "a = a.lower()\n",
    "d = dict()\n",
    "d = a.split()\n",
    "for i in d:\n",
    "    print(i)\n",
    "print(d)"
   ]
  },
  {
   "cell_type": "code",
   "execution_count": null,
   "metadata": {},
   "outputs": [],
   "source": [
    "update_dictionary(d, 1, -3)\n",
    "a = input()\n",
    "a = a.lower()\n",
    "d = set()\n",
    "d = a.split()\n",
    "value = 0\n",
    "for key in d.keys():\n",
    "    value.count(key)\n",
    "    d[key] = value\n",
    "print(d)"
   ]
  },
  {
   "cell_type": "code",
   "execution_count": null,
   "metadata": {},
   "outputs": [],
   "source": [
    "a = input()\n",
    "b = a.lower().split()\n",
    "d = dict()\n",
    "value = 0 \n",
    "for i in b:\n",
    "    value = b.count(i)\n",
    "    d[i] = value\n",
    "print(d)\n",
    "for key, value in d.items():\n",
    "    print(key, value)"
   ]
  },
  {
   "cell_type": "code",
   "execution_count": null,
   "metadata": {},
   "outputs": [],
   "source": [
    "n = int(input())\n",
    "for x in range(n):\n",
    "    x = input()\n",
    "f(x)\n",
    "print(x, end='/n')"
   ]
  },
  {
   "cell_type": "code",
   "execution_count": null,
   "metadata": {},
   "outputs": [],
   "source": [
    "n = int(input())\n",
    "for x in range(n):\n",
    "    x = int(input())"
   ]
  },
  {
   "cell_type": "code",
   "execution_count": null,
   "metadata": {},
   "outputs": [],
   "source": [
    "a = input()\n",
    "a = a + ' '\n",
    "x = ''\n",
    "for i in range(len(a) - 1):\n",
    "    while a[i] != a[i+1]:  \n",
    "        if x == '':\n",
    "            x = x + a[i] + str(i + 1)\n",
    "        elif x != '':\n",
    "            x = x + a[i] + str(i - cnt)\n",
    "        cnt = i\n",
    "        if a[i] != a[i+1]:\n",
    "            break\n",
    "print(x)"
   ]
  },
  {
   "cell_type": "code",
   "execution_count": null,
   "metadata": {
    "scrolled": true
   },
   "outputs": [],
   "source": [
    "import os\n",
    "with open('dataset_3363_2-3.txt') as inf:\n",
    "    s1 = inf.readline()\n",
    "res1 = ''\n",
    "for i in range(len(s1)):\n",
    "    if s1[i].isalpha():\n",
    "        b = s1[i]\n",
    "    elif s1[i].isdigit():\n",
    "        s += s1[i]\n",
    "        for j in range(i + 1, len(s1)):\n",
    "            if s1[j].isdigit():\n",
    "                s += s1[j]\n",
    "            elif s1[j].isalpha():\n",
    "                break\n",
    "        res1 += b * int(s)\n",
    "        b = ''\n",
    "        s = ''\n",
    "with open('result3.txt', 'w') as ouf:\n",
    "    ouf.write(res1)"
   ]
  },
  {
   "cell_type": "code",
   "execution_count": null,
   "metadata": {},
   "outputs": [],
   "source": [
    "import collections\n",
    "with open('dataset_3363_3.txt') as inf:\n",
    "    s1 = inf.read()\n",
    "s11 = s1.split()\n",
    "c = collections.Counter()\n",
    "for i in s11:\n",
    "    c[i] += 1\n",
    "print(c)"
   ]
  },
  {
   "cell_type": "code",
   "execution_count": null,
   "metadata": {},
   "outputs": [],
   "source": [
    "import math \n",
    "r = float(input())\n",
    "pl = math.pi * r * 2\n",
    "\n",
    "print(pl)"
   ]
  },
  {
   "cell_type": "code",
   "execution_count": null,
   "metadata": {},
   "outputs": [],
   "source": [
    "import sys\n",
    "print(len(sys.argv))"
   ]
  },
  {
   "cell_type": "code",
   "execution_count": null,
   "metadata": {},
   "outputs": [],
   "source": [
    "def cuber(x):\n",
    "    cnt = 0\n",
    "    for i in range(1, 7):\n",
    "        for j in range(1, 7):\n",
    "            if i + j == x:\n",
    "                cnt +=1\n",
    "    return cnt / 36"
   ]
  },
  {
   "cell_type": "code",
   "execution_count": null,
   "metadata": {},
   "outputs": [],
   "source": [
    "cuber(8)"
   ]
  },
  {
   "cell_type": "code",
   "execution_count": null,
   "metadata": {},
   "outputs": [],
   "source": [
    "cnt = 0\n",
    "for i in range(1, 7):\n",
    "    for j in range(1, 7):\n",
    "        if i + j == 8:\n",
    "            cnt += 1\n",
    "print(cnt / 36)"
   ]
  },
  {
   "cell_type": "code",
   "execution_count": 8,
   "metadata": {},
   "outputs": [],
   "source": [
    "out_d = {}\n",
    "def outcomes(x, y):\n",
    "    if (x, y) in out_d.keys():\n",
    "        return out_d[x, y]\n",
    "    else:     \n",
    "        if y == 1:  # для последнего кубика создаем ветку, в которой будем считать итоговую возможность исхода \n",
    "            if x in range(1, 7):\n",
    "                out_d[x, y] = 1\n",
    "                return 1 # если до последнего кубика мы бросили сумму, которая при вычитании от входящего параметра будет меньше, либо равна 6, то комбинацию засчитываем и возвращаем в счетик 1 возможный/верный исход\n",
    "            else: \n",
    "                out_d[x, y] = 0\n",
    "                return 0 # если до последнего кубика мы бросили сумму, которая при вычитании от входящего параметра будет больше 6, то комбинацию не засчитываем \n",
    "        else:\n",
    "            s = 0  \n",
    "            for i in range(1, 7): # кидаем кубик \n",
    "                s += outcomes(x - i, y - 1) # вызываем следующий кубик, но с вычетом уже \"брошенного\" кубика (ов)\n",
    "            out_d[x, y] = s\n",
    "            return s # возвращаем количество возможных исходов в рамках ветки\n",
    "    \n",
    "def cuber(x, y):\n",
    "    return outcomes(x, y) / (6**y) # наиболее быстрым вариантом я посчитал выделить отдельную функцию, где уже можно спокойной посчитать знаменатель (количество возможных вариантов)"
   ]
  },
  {
   "cell_type": "code",
   "execution_count": 11,
   "metadata": {},
   "outputs": [
    {
     "name": "stdout",
     "output_type": "stream",
     "text": [
      "555 ns ± 2.53 ns per loop (mean ± std. dev. of 7 runs, 1000000 loops each)\n"
     ]
    }
   ],
   "source": [
    "timeit(cuber(15, 3))"
   ]
  },
  {
   "cell_type": "code",
   "execution_count": 9,
   "metadata": {},
   "outputs": [
    {
     "name": "stdout",
     "output_type": "stream",
     "text": [
      "599 ns ± 15.6 ns per loop (mean ± std. dev. of 7 runs, 1000000 loops each)\n"
     ]
    }
   ],
   "source": [
    "timeit(cuber(15, 3))"
   ]
  },
  {
   "cell_type": "code",
   "execution_count": null,
   "metadata": {},
   "outputs": [],
   "source": [
    "with open('dataset_3363_3-4.txt') as inf:\n",
    "    c = inf.read()\n",
    "ll = c.split()\n",
    "res = [0, 0]\n",
    "for i in range(len(ll)):\n",
    "    cnt = 1\n",
    "    if ll[i].lower() in res:\n",
    "        break\n",
    "    for j in range(i + 1, len(ll)):\n",
    "        if ll[i].lower() == ll[j].lower():\n",
    "            cnt += 1\n",
    "    if cnt > res[1]:\n",
    "        res[0] = ll[i]\n",
    "        res[1] = cnt\n",
    "    elif cnt == res[1]:\n",
    "        if ll[i] < res[0]:\n",
    "            res[0] = ll[i]\n",
    "            res[1] = cnt\n",
    "res11 = ''\n",
    "print(res)\n",
    "res11 = ' '.join(str(x) for x in res)\n",
    "print(res11)\n",
    "with open('result5.txt', 'w') as ouf:\n",
    "    ouf.write(res11)"
   ]
  },
  {
   "cell_type": "code",
   "execution_count": null,
   "metadata": {},
   "outputs": [],
   "source": [
    "print(res, end='')"
   ]
  },
  {
   "cell_type": "code",
   "execution_count": null,
   "metadata": {},
   "outputs": [],
   "source": [
    "import os\n",
    "with open('dataset_3363_4-2.txt') as inf:\n",
    "    c = inf.readlines()\n",
    "math, ph, ru = 0, 0, 0\n",
    "result = []\n",
    "for el in c:\n",
    "    average = 0\n",
    "    les, sec, third, fourth = [int(i) if i.isdigit() else i for i in el.strip().split(';')]\n",
    "    average = (sec + third + fourth) / (len(el.split(';')) - 1)\n",
    "    math += sec\n",
    "    ph += third\n",
    "    ru += fourth\n",
    "    with open('result8.txt', 'a') as ouf:\n",
    "        ouf.writelines(str(round(average, 9)) + '\\n')\n",
    "\n",
    "aa = math / len(c), ph / len(c), ru / len(c)\n",
    "aa1 = ' '.join(str(x) for x in aa)\n",
    "with open('result8.txt', 'a') as ouf:\n",
    "    ouf.writelines(aa1)"
   ]
  },
  {
   "cell_type": "code",
   "execution_count": null,
   "metadata": {},
   "outputs": [],
   "source": [
    "for line in highscore_file.strip():\n",
    "        score, name = line.split(' ')\n",
    "        print(name, \"\\t\", score)"
   ]
  },
  {
   "cell_type": "code",
   "execution_count": null,
   "metadata": {},
   "outputs": [],
   "source": [
    "list = [1,2,3,4,5]\n",
    "product = [i for i in list if i % 2 ==0] # only sum even numbers in the list\n",
    "print(product)"
   ]
  },
  {
   "cell_type": "code",
   "execution_count": null,
   "metadata": {},
   "outputs": [],
   "source": [
    "Sample Input:\n",
    "3\n",
    "Спартак;9;Зенит;10\n",
    "Локомотив;12;Зенит;3\n",
    "Спартак;8;Локомотив;15\n",
    "\n",
    "Sample Output:\n",
    "Спартак:2 0 0 2 0\n",
    "Зенит:2 1 0 1 3\n",
    "Локомотив:2 2 0 0 6\n",
    "\n",
    "Команда: Всего_игр Побед Ничьих Поражений Всего_очков"
   ]
  },
  {
   "cell_type": "code",
   "execution_count": null,
   "metadata": {},
   "outputs": [],
   "source": [
    "a = int(input())\n",
    "types = (str, int, str, int)\n",
    "games = []\n",
    "for i in range(a):\n",
    "    c1, g1, c2, g2 = (typ(value) for typ, value in zip(types, input().split(';')))\n",
    "    games.extend([[c1,g1,c2,g2]])\n",
    "\n",
    "d = dict()\n",
    "for match in games:\n",
    "    if match[1] > match[3]:\n",
    "        if match[0] not in d:\n",
    "            d[match[0]] = [1, 1, 0, 0, 3]\n",
    "        else:\n",
    "            for key, value in d.items():\n",
    "                if key == match[0]:\n",
    "                    d[key] = [value + x for value, x in zip(value, [1, 1, 0, 0, 3])]\n",
    "        \n",
    "        if match[2] not in d:\n",
    "            d[match[2]] = [1, 0, 0, 1, 0]\n",
    "        else: \n",
    "            for key, value in d.items():\n",
    "                if key == match[2]:\n",
    "                    d[key] = [value + x for value, x in zip(value, [1, 0, 0, 1, 0])]\n",
    "    \n",
    "    elif match[1] < match[3]:\n",
    "        if match[0] not in d:\n",
    "            d[match[0]] = [1, 0, 0, 1, 0]\n",
    "        else: \n",
    "            for key, value in d.items():\n",
    "                if key == match[0]:\n",
    "                    d[key] = [value + x for value, x in zip(value, [1, 0, 0, 1, 0])]\n",
    "            \n",
    "        if match[2] not in d:\n",
    "            d[match[2]] = [1, 1, 0, 0, 3]\n",
    "        else:\n",
    "            for key, value in d.items():\n",
    "                if key == match[2]:\n",
    "                    d[key] = [value + x for value, x in zip(value, [1, 1, 0, 0, 3])]\n",
    "    \n",
    "    else:\n",
    "        if match[0] not in d:\n",
    "            d[match[0]] = [1, 0, 1, 0, 1]\n",
    "        else:\n",
    "            for key, value in d.items():\n",
    "                if key == match[0]:\n",
    "                    d[key] = [value + x for value, x in zip(value, [1, 0, 1, 0, 1])] \n",
    "            \n",
    "        if match[2] not in d:\n",
    "            d[match[2]] = [1, 0, 1, 0, 1]\n",
    "        else:\n",
    "            for key, value in d.items():\n",
    "                if key == match[2]:\n",
    "                    d[key] = [value + x for value, x in zip(value, [1, 0, 1, 0, 1])] \n",
    "                    \n",
    "for key, value in d.items():\n",
    "    print((key + ':'), *value) "
   ]
  },
  {
   "cell_type": "code",
   "execution_count": null,
   "metadata": {},
   "outputs": [],
   "source": [
    "games = [['Спартак', 9, 'Зенит', 10], ['Локомотив',12,'Зенит',3], ['Спартак',8,'Локомотив',15]]\n",
    "\n",
    "d = dict()\n",
    "for match in games:\n",
    "    if match[1] > match[3]:\n",
    "        if match[0] not in d:\n",
    "            d[match[0]] = [1, 1, 0, 0, 3]\n",
    "        else:\n",
    "            for key, value in d.items():\n",
    "                if key == match[0]:\n",
    "                    d[key] = [value + x for value, x in zip(value, [1, 1, 0, 0, 3])]\n",
    "        \n",
    "        if match[2] not in d:\n",
    "            d[match[2]] = [1, 0, 0, 1, 0]\n",
    "        else: \n",
    "            for key, value in d.items():\n",
    "                if key == match[2]:\n",
    "                    d[key] = [value + x for value, x in zip(value, [1, 0, 0, 1, 0])]\n",
    "    \n",
    "    elif match[1] < match[3]:\n",
    "        if match[0] not in d:\n",
    "            d[match[0]] = [1, 0, 0, 1, 0]\n",
    "        else: \n",
    "            for key, value in d.items():\n",
    "                if key == match[0]:\n",
    "                    d[key] = [value + x for value, x in zip(value, [1, 0, 0, 1, 0])]\n",
    "            \n",
    "        if match[2] not in d:\n",
    "            d[match[2]] = [1, 1, 0, 0, 3]\n",
    "        else:\n",
    "            for key, value in d.items():\n",
    "                if key == match[2]:\n",
    "                    d[key] = [value + x for value, x in zip(value, [1, 1, 0, 0, 3])]\n",
    "    \n",
    "    else:\n",
    "        if match[0] not in d:\n",
    "            d[match[0]] = [1, 0, 1, 0, 1]\n",
    "        else:\n",
    "            for key, value in d.items():\n",
    "                if key == match[0]:\n",
    "                    d[key] = [value + x for value, x in zip(value, [1, 0, 1, 0, 1])] \n",
    "            \n",
    "        if match[2] not in d:\n",
    "            d[match[2]] = [1, 0, 1, 0, 1]\n",
    "        else:\n",
    "            for key, value in d.items():\n",
    "                if key == match[2]:\n",
    "                    d[key] = [value + x for value, x in zip(value, [1, 0, 1, 0, 1])] \n",
    "\n",
    "for key, value in d.items():\n",
    "    print((key + ':'), *value) "
   ]
  },
  {
   "cell_type": "code",
   "execution_count": null,
   "metadata": {},
   "outputs": [],
   "source": [
    "for q, w in d.items():\n",
    "    print((q+':'), *w, end='\\n')"
   ]
  }
 ],
 "metadata": {
  "kernelspec": {
   "display_name": "Python 3",
   "language": "python",
   "name": "python3"
  },
  "language_info": {
   "codemirror_mode": {
    "name": "ipython",
    "version": 3
   },
   "file_extension": ".py",
   "mimetype": "text/x-python",
   "name": "python",
   "nbconvert_exporter": "python",
   "pygments_lexer": "ipython3",
   "version": "3.7.3"
  }
 },
 "nbformat": 4,
 "nbformat_minor": 2
}
